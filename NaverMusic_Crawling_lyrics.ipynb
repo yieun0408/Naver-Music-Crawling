{
 "cells": [
  {
   "cell_type": "code",
   "execution_count": null,
   "metadata": {},
   "outputs": [],
   "source": [
    "from selenium import webdriver\n",
    "from bs4 import BeautifulSoup\n",
    "from time import sleep\n",
    "import requests\n",
    "import re\n",
    "import pandas as pd\n",
    "from pandas import DataFrame\n",
    "import numpy as np\n",
    "import lxml.html"
   ]
  },
  {
   "cell_type": "code",
   "execution_count": null,
   "metadata": {},
   "outputs": [],
   "source": [
    "\n",
    "#가수마다 번호 부여. 다른 가수 번호 찾아서 바꾸기만 하면 됨\n",
    "\n",
    "title_l = []\n",
    "number_l = []\n",
    "\n",
    "for i in range(1,11):\n",
    "    url_s = 'https://music.naver.com/artist/track.nhn?artistId=188&page=' + str(i)\n",
    "    #print(url_s)\n",
    "    \n",
    "    res_s = requests.get(url_s, headers = {\n",
    "    'user-agent': ('Mozilla/5.0 (Windows NT 6.1) AppleWebKit/537.36 (KHTML, like Gecko) '\n",
    "                   'Chrome/41.0.2228.0 Safari/537.36')})\n",
    "    \n",
    "    e_s = lxml.html.fromstring(res_s.text)\n",
    "    \n",
    "    title = e_s.cssselect('.track')        \n",
    "    a = re.compile(\"[0-9]{2,}\")\n",
    "    \n",
    "    \n",
    "    if len(title) == 50:\n",
    "        for i in range(0,50):\n",
    "            title_l.append(title[i].text_content())\n",
    "            number_l.append(a.findall(title[i].get('onclick')))\n",
    "            \n",
    "    else:\n",
    "        for i in range(0,19):\n",
    "            title_l.append(title[i].text_content())\n",
    "            number_l.append(a.findall(title[i].get('onclick')))\n",
    "        \n",
    "        "
   ]
  },
  {
   "cell_type": "code",
   "execution_count": null,
   "metadata": {},
   "outputs": [],
   "source": [
    "#잘 됬는지 확인. 둘이 len 똑같아야 함\n",
    "print(len(title_l), len(number_l))"
   ]
  },
  {
   "cell_type": "code",
   "execution_count": null,
   "metadata": {},
   "outputs": [],
   "source": [
    "title_l"
   ]
  },
  {
   "cell_type": "code",
   "execution_count": null,
   "metadata": {},
   "outputs": [],
   "source": [
    "#중복 없애주고\n",
    "#이중 리스트 풀자\n",
    "\n",
    "#이중 리스트 안에 있는 중복 없애기\n",
    "result = []\n",
    "for i in range(0,len(number_l)):\n",
    "    result.append(list(set(number_l[i])))\n",
    "\n",
    "result"
   ]
  },
  {
   "cell_type": "code",
   "execution_count": null,
   "metadata": {},
   "outputs": [],
   "source": [
    "#이중 리스트 풀기\n",
    "unlist = [y for x in result for y in x]\n",
    "unlist"
   ]
  },
  {
   "cell_type": "code",
   "execution_count": null,
   "metadata": {},
   "outputs": [],
   "source": [
    "#곡 번호 기준으로 가사 크롤링 하기!\n",
    "################찐 가사!\n",
    "lyrics_l = []\n",
    "for i in unlist:\n",
    "    url2 = 'https://music.naver.com/lyric/index.nhn?trackId=' + str(i)\n",
    "    #print(url2)\n",
    "    response = requests.get(url2)\n",
    "    html = response.text \n",
    "    soup = BeautifulSoup(html, 'html.parser')\n",
    "    lyrics = soup.select('.section_lyrics')\n",
    "    #print(lyrics)\n",
    "    \n",
    "    for n in lyrics:\n",
    "        try:\n",
    "            lyrics_l.append(n.text.strip())\n",
    "            \n",
    "\n",
    "        except:\n",
    "            lyrics_l.append(\"NULL\")\n"
   ]
  },
  {
   "cell_type": "code",
   "execution_count": null,
   "metadata": {},
   "outputs": [],
   "source": [
    "#결과 확인\n",
    "\n",
    "lyrics_l\n",
    "#잘 나온다!"
   ]
  },
  {
   "cell_type": "code",
   "execution_count": null,
   "metadata": {},
   "outputs": [],
   "source": [
    "#결과 확인. 앞에서 title과 number와 같은 값이여야 함\n",
    "len(lyrics_l)"
   ]
  },
  {
   "cell_type": "code",
   "execution_count": null,
   "metadata": {},
   "outputs": [],
   "source": [
    "##################저장\n",
    "save_df = DataFrame({\"number\" : unlist, \"title\" : title_l, \"lyrics\" : lyrics_l})\n"
   ]
  },
  {
   "cell_type": "code",
   "execution_count": null,
   "metadata": {},
   "outputs": [],
   "source": [
    "save_df_final = save_df[save_df.lyrics.apply(lambda x : len(x)) > 100]\n",
    "save_df_final.to_csv(\"이문세.csv\", index = False, encoding='utf-8-sig')"
   ]
  },
  {
   "cell_type": "code",
   "execution_count": null,
   "metadata": {},
   "outputs": [],
   "source": []
  }
 ],
 "metadata": {
  "kernelspec": {
   "display_name": "Python 3",
   "language": "python",
   "name": "python3"
  },
  "language_info": {
   "codemirror_mode": {
    "name": "ipython",
    "version": 3
   },
   "file_extension": ".py",
   "mimetype": "text/x-python",
   "name": "python",
   "nbconvert_exporter": "python",
   "pygments_lexer": "ipython3",
   "version": "3.6.6"
  }
 },
 "nbformat": 4,
 "nbformat_minor": 2
}
